{
 "cells": [
  {
   "cell_type": "code",
   "execution_count": 40,
   "id": "1d6ebe5a",
   "metadata": {},
   "outputs": [],
   "source": [
    "import pandas as pd\n",
    "import numpy as np\n",
    "import matplotlib.pyplot as plt"
   ]
  },
  {
   "cell_type": "code",
   "execution_count": 1,
   "id": "e04613b1",
   "metadata": {},
   "outputs": [],
   "source": [
    "from spacy.lang.en.stop_words import STOP_WORDS as stopwords\n",
    "import spacy\n",
    "\n",
    "import re\n",
    "from bs4 import BeautifulSoup"
   ]
  },
  {
   "cell_type": "markdown",
   "id": "490d3fb8",
   "metadata": {},
   "source": [
    "#### Loading german lang medium model in spacy"
   ]
  },
  {
   "cell_type": "code",
   "execution_count": 2,
   "id": "45e78788",
   "metadata": {},
   "outputs": [],
   "source": [
    "nlp = spacy.load('de_core_news_md') "
   ]
  },
  {
   "cell_type": "code",
   "execution_count": 3,
   "id": "c0bb0b8f",
   "metadata": {},
   "outputs": [],
   "source": [
    "df = pd.read_excel(\"C:\\\\AA-Classes\\\\Z\\\\data.xlsx\")"
   ]
  },
  {
   "cell_type": "code",
   "execution_count": 4,
   "id": "159b8643",
   "metadata": {},
   "outputs": [
    {
     "data": {
      "text/html": [
       "<div>\n",
       "<style scoped>\n",
       "    .dataframe tbody tr th:only-of-type {\n",
       "        vertical-align: middle;\n",
       "    }\n",
       "\n",
       "    .dataframe tbody tr th {\n",
       "        vertical-align: top;\n",
       "    }\n",
       "\n",
       "    .dataframe thead th {\n",
       "        text-align: right;\n",
       "    }\n",
       "</style>\n",
       "<table border=\"1\" class=\"dataframe\">\n",
       "  <thead>\n",
       "    <tr style=\"text-align: right;\">\n",
       "      <th></th>\n",
       "      <th>id</th>\n",
       "      <th>Geschlecht</th>\n",
       "      <th>Alter</th>\n",
       "      <th>Text</th>\n",
       "      <th>Extraversion_Classification</th>\n",
       "      <th>Gewissenhaftigkeit_Classification</th>\n",
       "      <th>EmotionaleStabilitaet_Classification</th>\n",
       "      <th>Offenheit_Classification</th>\n",
       "      <th>Empathie_Classification</th>\n",
       "      <th>Wirksamkeitsueberzeugung_Classification</th>\n",
       "      <th>Optimismus_Classification</th>\n",
       "      <th>Resilienz_Classification</th>\n",
       "      <th>UnternehmerischesKapital_Classification</th>\n",
       "      <th>AgilityMindset_Classification</th>\n",
       "      <th>Machiavellismus_Classification</th>\n",
       "      <th>Narzissmus_Classification</th>\n",
       "      <th>Psychopathie_Classification</th>\n",
       "      <th>ZerstoererischesPotential_Classification</th>\n",
       "    </tr>\n",
       "  </thead>\n",
       "  <tbody>\n",
       "    <tr>\n",
       "      <th>0</th>\n",
       "      <td>15</td>\n",
       "      <td>M</td>\n",
       "      <td>1972</td>\n",
       "      <td>Ich habe meinen Vater bis zu seinem Tode gepfl...</td>\n",
       "      <td>LOW</td>\n",
       "      <td>AVERAGE</td>\n",
       "      <td>HIGH</td>\n",
       "      <td>AVERAGE</td>\n",
       "      <td>LOW</td>\n",
       "      <td>AVERAGE</td>\n",
       "      <td>LOW</td>\n",
       "      <td>AVERAGE</td>\n",
       "      <td>AVERAGE</td>\n",
       "      <td>AVERAGE</td>\n",
       "      <td>HIGH</td>\n",
       "      <td>LOW</td>\n",
       "      <td>AVERAGE</td>\n",
       "      <td>AVERAGE</td>\n",
       "    </tr>\n",
       "    <tr>\n",
       "      <th>1</th>\n",
       "      <td>20</td>\n",
       "      <td>F</td>\n",
       "      <td>1976</td>\n",
       "      <td>Ich habe die Aufnahmeprüfung beim Landesgymnas...</td>\n",
       "      <td>AVERAGE</td>\n",
       "      <td>LOW</td>\n",
       "      <td>AVERAGE</td>\n",
       "      <td>HIGH</td>\n",
       "      <td>AVERAGE</td>\n",
       "      <td>AVERAGE</td>\n",
       "      <td>LOW</td>\n",
       "      <td>AVERAGE</td>\n",
       "      <td>AVERAGE</td>\n",
       "      <td>AVERAGE</td>\n",
       "      <td>AVERAGE</td>\n",
       "      <td>AVERAGE</td>\n",
       "      <td>AVERAGE</td>\n",
       "      <td>AVERAGE</td>\n",
       "    </tr>\n",
       "    <tr>\n",
       "      <th>2</th>\n",
       "      <td>24</td>\n",
       "      <td>F</td>\n",
       "      <td>1966</td>\n",
       "      <td>Bei meinem Sohn wurde in Kindertagen ADHS diag...</td>\n",
       "      <td>LOW</td>\n",
       "      <td>HIGH</td>\n",
       "      <td>AVERAGE</td>\n",
       "      <td>HIGH</td>\n",
       "      <td>HIGH</td>\n",
       "      <td>AVERAGE</td>\n",
       "      <td>HIGH</td>\n",
       "      <td>AVERAGE</td>\n",
       "      <td>HIGH</td>\n",
       "      <td>AVERAGE</td>\n",
       "      <td>LOW</td>\n",
       "      <td>AVERAGE</td>\n",
       "      <td>AVERAGE</td>\n",
       "      <td>AVERAGE</td>\n",
       "    </tr>\n",
       "    <tr>\n",
       "      <th>3</th>\n",
       "      <td>45</td>\n",
       "      <td>F</td>\n",
       "      <td>1966</td>\n",
       "      <td>Mein größter Erfolg war, dass es mir trotz mei...</td>\n",
       "      <td>AVERAGE</td>\n",
       "      <td>LOW</td>\n",
       "      <td>LOW</td>\n",
       "      <td>LOW</td>\n",
       "      <td>AVERAGE</td>\n",
       "      <td>LOW</td>\n",
       "      <td>AVERAGE</td>\n",
       "      <td>LOW</td>\n",
       "      <td>LOW</td>\n",
       "      <td>LOW</td>\n",
       "      <td>LOW</td>\n",
       "      <td>HIGH</td>\n",
       "      <td>AVERAGE</td>\n",
       "      <td>AVERAGE</td>\n",
       "    </tr>\n",
       "    <tr>\n",
       "      <th>4</th>\n",
       "      <td>49</td>\n",
       "      <td>M</td>\n",
       "      <td>1975</td>\n",
       "      <td>Ich habe siebeneinhalb Wohnungen gekauft. Eine...</td>\n",
       "      <td>AVERAGE</td>\n",
       "      <td>LOW</td>\n",
       "      <td>LOW</td>\n",
       "      <td>HIGH</td>\n",
       "      <td>LOW</td>\n",
       "      <td>AVERAGE</td>\n",
       "      <td>AVERAGE</td>\n",
       "      <td>AVERAGE</td>\n",
       "      <td>AVERAGE</td>\n",
       "      <td>AVERAGE</td>\n",
       "      <td>AVERAGE</td>\n",
       "      <td>HIGH</td>\n",
       "      <td>HIGH</td>\n",
       "      <td>HIGH</td>\n",
       "    </tr>\n",
       "  </tbody>\n",
       "</table>\n",
       "</div>"
      ],
      "text/plain": [
       "   id Geschlecht  Alter                                               Text  \\\n",
       "0  15          M   1972  Ich habe meinen Vater bis zu seinem Tode gepfl...   \n",
       "1  20          F   1976  Ich habe die Aufnahmeprüfung beim Landesgymnas...   \n",
       "2  24          F   1966  Bei meinem Sohn wurde in Kindertagen ADHS diag...   \n",
       "3  45          F   1966  Mein größter Erfolg war, dass es mir trotz mei...   \n",
       "4  49          M   1975  Ich habe siebeneinhalb Wohnungen gekauft. Eine...   \n",
       "\n",
       "  Extraversion_Classification Gewissenhaftigkeit_Classification  \\\n",
       "0                         LOW                           AVERAGE   \n",
       "1                     AVERAGE                               LOW   \n",
       "2                         LOW                              HIGH   \n",
       "3                     AVERAGE                               LOW   \n",
       "4                     AVERAGE                               LOW   \n",
       "\n",
       "  EmotionaleStabilitaet_Classification Offenheit_Classification  \\\n",
       "0                                 HIGH                  AVERAGE   \n",
       "1                              AVERAGE                     HIGH   \n",
       "2                              AVERAGE                     HIGH   \n",
       "3                                  LOW                      LOW   \n",
       "4                                  LOW                     HIGH   \n",
       "\n",
       "  Empathie_Classification Wirksamkeitsueberzeugung_Classification  \\\n",
       "0                     LOW                                 AVERAGE   \n",
       "1                 AVERAGE                                 AVERAGE   \n",
       "2                    HIGH                                 AVERAGE   \n",
       "3                 AVERAGE                                     LOW   \n",
       "4                     LOW                                 AVERAGE   \n",
       "\n",
       "  Optimismus_Classification Resilienz_Classification  \\\n",
       "0                       LOW                  AVERAGE   \n",
       "1                       LOW                  AVERAGE   \n",
       "2                      HIGH                  AVERAGE   \n",
       "3                   AVERAGE                      LOW   \n",
       "4                   AVERAGE                  AVERAGE   \n",
       "\n",
       "  UnternehmerischesKapital_Classification AgilityMindset_Classification  \\\n",
       "0                                 AVERAGE                       AVERAGE   \n",
       "1                                 AVERAGE                       AVERAGE   \n",
       "2                                    HIGH                       AVERAGE   \n",
       "3                                     LOW                           LOW   \n",
       "4                                 AVERAGE                       AVERAGE   \n",
       "\n",
       "  Machiavellismus_Classification Narzissmus_Classification  \\\n",
       "0                           HIGH                       LOW   \n",
       "1                        AVERAGE                   AVERAGE   \n",
       "2                            LOW                   AVERAGE   \n",
       "3                            LOW                      HIGH   \n",
       "4                        AVERAGE                      HIGH   \n",
       "\n",
       "  Psychopathie_Classification ZerstoererischesPotential_Classification  \n",
       "0                     AVERAGE                                  AVERAGE  \n",
       "1                     AVERAGE                                  AVERAGE  \n",
       "2                     AVERAGE                                  AVERAGE  \n",
       "3                     AVERAGE                                  AVERAGE  \n",
       "4                        HIGH                                     HIGH  "
      ]
     },
     "execution_count": 4,
     "metadata": {},
     "output_type": "execute_result"
    }
   ],
   "source": [
    "df.head()"
   ]
  },
  {
   "cell_type": "code",
   "execution_count": 5,
   "id": "5519387d",
   "metadata": {},
   "outputs": [
    {
     "data": {
      "text/plain": [
       "'Ich habe meinen Vater bis zu seinem Tode gepflegt und ihn bis zum letzten Moment begleitet. Dank der Unterstützung meiner Frau konnte ich mir die nötige Zeit nehmen, mir entsprechende (technische) Fähigkeiten aneignen und eben auch für ihn da sein. Das Ergebnis war - trotz langer und schwerer Krankheit - eine \"weiche Landung\" für ihn. Gelernt habe ich, dass Loyalität bis in den Tod - auch wenn das in unserer hedonistischen und bigotten Zeit verfemt ist - das größte Kompliment ist, dass man machen kann und die entsprechende Dankbarkeit (die Teil der Leistung ist, mit der man sich solche Loyalität VERDIENT) der größte Lohn ist, den man bekommen kann.\\xa0'"
      ]
     },
     "execution_count": 5,
     "metadata": {},
     "output_type": "execute_result"
    }
   ],
   "source": [
    "df.Text[0]"
   ]
  },
  {
   "cell_type": "markdown",
   "id": "39c2c09e",
   "metadata": {},
   "source": [
    "#### Removing Irrelevant data"
   ]
  },
  {
   "cell_type": "code",
   "execution_count": 6,
   "id": "fe6c9704",
   "metadata": {},
   "outputs": [],
   "source": [
    "df = df.drop('id',axis = 1)"
   ]
  },
  {
   "cell_type": "code",
   "execution_count": 7,
   "id": "611c26b8",
   "metadata": {},
   "outputs": [
    {
     "data": {
      "text/html": [
       "<div>\n",
       "<style scoped>\n",
       "    .dataframe tbody tr th:only-of-type {\n",
       "        vertical-align: middle;\n",
       "    }\n",
       "\n",
       "    .dataframe tbody tr th {\n",
       "        vertical-align: top;\n",
       "    }\n",
       "\n",
       "    .dataframe thead th {\n",
       "        text-align: right;\n",
       "    }\n",
       "</style>\n",
       "<table border=\"1\" class=\"dataframe\">\n",
       "  <thead>\n",
       "    <tr style=\"text-align: right;\">\n",
       "      <th></th>\n",
       "      <th>Geschlecht</th>\n",
       "      <th>Alter</th>\n",
       "      <th>Text</th>\n",
       "      <th>Extraversion_Classification</th>\n",
       "      <th>Gewissenhaftigkeit_Classification</th>\n",
       "      <th>EmotionaleStabilitaet_Classification</th>\n",
       "      <th>Offenheit_Classification</th>\n",
       "      <th>Empathie_Classification</th>\n",
       "      <th>Wirksamkeitsueberzeugung_Classification</th>\n",
       "      <th>Optimismus_Classification</th>\n",
       "      <th>Resilienz_Classification</th>\n",
       "      <th>UnternehmerischesKapital_Classification</th>\n",
       "      <th>AgilityMindset_Classification</th>\n",
       "      <th>Machiavellismus_Classification</th>\n",
       "      <th>Narzissmus_Classification</th>\n",
       "      <th>Psychopathie_Classification</th>\n",
       "      <th>ZerstoererischesPotential_Classification</th>\n",
       "    </tr>\n",
       "  </thead>\n",
       "  <tbody>\n",
       "    <tr>\n",
       "      <th>0</th>\n",
       "      <td>M</td>\n",
       "      <td>1972</td>\n",
       "      <td>Ich habe meinen Vater bis zu seinem Tode gepfl...</td>\n",
       "      <td>LOW</td>\n",
       "      <td>AVERAGE</td>\n",
       "      <td>HIGH</td>\n",
       "      <td>AVERAGE</td>\n",
       "      <td>LOW</td>\n",
       "      <td>AVERAGE</td>\n",
       "      <td>LOW</td>\n",
       "      <td>AVERAGE</td>\n",
       "      <td>AVERAGE</td>\n",
       "      <td>AVERAGE</td>\n",
       "      <td>HIGH</td>\n",
       "      <td>LOW</td>\n",
       "      <td>AVERAGE</td>\n",
       "      <td>AVERAGE</td>\n",
       "    </tr>\n",
       "    <tr>\n",
       "      <th>1</th>\n",
       "      <td>F</td>\n",
       "      <td>1976</td>\n",
       "      <td>Ich habe die Aufnahmeprüfung beim Landesgymnas...</td>\n",
       "      <td>AVERAGE</td>\n",
       "      <td>LOW</td>\n",
       "      <td>AVERAGE</td>\n",
       "      <td>HIGH</td>\n",
       "      <td>AVERAGE</td>\n",
       "      <td>AVERAGE</td>\n",
       "      <td>LOW</td>\n",
       "      <td>AVERAGE</td>\n",
       "      <td>AVERAGE</td>\n",
       "      <td>AVERAGE</td>\n",
       "      <td>AVERAGE</td>\n",
       "      <td>AVERAGE</td>\n",
       "      <td>AVERAGE</td>\n",
       "      <td>AVERAGE</td>\n",
       "    </tr>\n",
       "    <tr>\n",
       "      <th>2</th>\n",
       "      <td>F</td>\n",
       "      <td>1966</td>\n",
       "      <td>Bei meinem Sohn wurde in Kindertagen ADHS diag...</td>\n",
       "      <td>LOW</td>\n",
       "      <td>HIGH</td>\n",
       "      <td>AVERAGE</td>\n",
       "      <td>HIGH</td>\n",
       "      <td>HIGH</td>\n",
       "      <td>AVERAGE</td>\n",
       "      <td>HIGH</td>\n",
       "      <td>AVERAGE</td>\n",
       "      <td>HIGH</td>\n",
       "      <td>AVERAGE</td>\n",
       "      <td>LOW</td>\n",
       "      <td>AVERAGE</td>\n",
       "      <td>AVERAGE</td>\n",
       "      <td>AVERAGE</td>\n",
       "    </tr>\n",
       "    <tr>\n",
       "      <th>3</th>\n",
       "      <td>F</td>\n",
       "      <td>1966</td>\n",
       "      <td>Mein größter Erfolg war, dass es mir trotz mei...</td>\n",
       "      <td>AVERAGE</td>\n",
       "      <td>LOW</td>\n",
       "      <td>LOW</td>\n",
       "      <td>LOW</td>\n",
       "      <td>AVERAGE</td>\n",
       "      <td>LOW</td>\n",
       "      <td>AVERAGE</td>\n",
       "      <td>LOW</td>\n",
       "      <td>LOW</td>\n",
       "      <td>LOW</td>\n",
       "      <td>LOW</td>\n",
       "      <td>HIGH</td>\n",
       "      <td>AVERAGE</td>\n",
       "      <td>AVERAGE</td>\n",
       "    </tr>\n",
       "    <tr>\n",
       "      <th>4</th>\n",
       "      <td>M</td>\n",
       "      <td>1975</td>\n",
       "      <td>Ich habe siebeneinhalb Wohnungen gekauft. Eine...</td>\n",
       "      <td>AVERAGE</td>\n",
       "      <td>LOW</td>\n",
       "      <td>LOW</td>\n",
       "      <td>HIGH</td>\n",
       "      <td>LOW</td>\n",
       "      <td>AVERAGE</td>\n",
       "      <td>AVERAGE</td>\n",
       "      <td>AVERAGE</td>\n",
       "      <td>AVERAGE</td>\n",
       "      <td>AVERAGE</td>\n",
       "      <td>AVERAGE</td>\n",
       "      <td>HIGH</td>\n",
       "      <td>HIGH</td>\n",
       "      <td>HIGH</td>\n",
       "    </tr>\n",
       "  </tbody>\n",
       "</table>\n",
       "</div>"
      ],
      "text/plain": [
       "  Geschlecht  Alter                                               Text  \\\n",
       "0          M   1972  Ich habe meinen Vater bis zu seinem Tode gepfl...   \n",
       "1          F   1976  Ich habe die Aufnahmeprüfung beim Landesgymnas...   \n",
       "2          F   1966  Bei meinem Sohn wurde in Kindertagen ADHS diag...   \n",
       "3          F   1966  Mein größter Erfolg war, dass es mir trotz mei...   \n",
       "4          M   1975  Ich habe siebeneinhalb Wohnungen gekauft. Eine...   \n",
       "\n",
       "  Extraversion_Classification Gewissenhaftigkeit_Classification  \\\n",
       "0                         LOW                           AVERAGE   \n",
       "1                     AVERAGE                               LOW   \n",
       "2                         LOW                              HIGH   \n",
       "3                     AVERAGE                               LOW   \n",
       "4                     AVERAGE                               LOW   \n",
       "\n",
       "  EmotionaleStabilitaet_Classification Offenheit_Classification  \\\n",
       "0                                 HIGH                  AVERAGE   \n",
       "1                              AVERAGE                     HIGH   \n",
       "2                              AVERAGE                     HIGH   \n",
       "3                                  LOW                      LOW   \n",
       "4                                  LOW                     HIGH   \n",
       "\n",
       "  Empathie_Classification Wirksamkeitsueberzeugung_Classification  \\\n",
       "0                     LOW                                 AVERAGE   \n",
       "1                 AVERAGE                                 AVERAGE   \n",
       "2                    HIGH                                 AVERAGE   \n",
       "3                 AVERAGE                                     LOW   \n",
       "4                     LOW                                 AVERAGE   \n",
       "\n",
       "  Optimismus_Classification Resilienz_Classification  \\\n",
       "0                       LOW                  AVERAGE   \n",
       "1                       LOW                  AVERAGE   \n",
       "2                      HIGH                  AVERAGE   \n",
       "3                   AVERAGE                      LOW   \n",
       "4                   AVERAGE                  AVERAGE   \n",
       "\n",
       "  UnternehmerischesKapital_Classification AgilityMindset_Classification  \\\n",
       "0                                 AVERAGE                       AVERAGE   \n",
       "1                                 AVERAGE                       AVERAGE   \n",
       "2                                    HIGH                       AVERAGE   \n",
       "3                                     LOW                           LOW   \n",
       "4                                 AVERAGE                       AVERAGE   \n",
       "\n",
       "  Machiavellismus_Classification Narzissmus_Classification  \\\n",
       "0                           HIGH                       LOW   \n",
       "1                        AVERAGE                   AVERAGE   \n",
       "2                            LOW                   AVERAGE   \n",
       "3                            LOW                      HIGH   \n",
       "4                        AVERAGE                      HIGH   \n",
       "\n",
       "  Psychopathie_Classification ZerstoererischesPotential_Classification  \n",
       "0                     AVERAGE                                  AVERAGE  \n",
       "1                     AVERAGE                                  AVERAGE  \n",
       "2                     AVERAGE                                  AVERAGE  \n",
       "3                     AVERAGE                                  AVERAGE  \n",
       "4                        HIGH                                     HIGH  "
      ]
     },
     "execution_count": 7,
     "metadata": {},
     "output_type": "execute_result"
    }
   ],
   "source": [
    "df.head()"
   ]
  },
  {
   "cell_type": "markdown",
   "id": "a7d098b1",
   "metadata": {},
   "source": [
    "#### Check for Null values"
   ]
  },
  {
   "cell_type": "code",
   "execution_count": 8,
   "id": "ab8ed451",
   "metadata": {},
   "outputs": [
    {
     "data": {
      "text/plain": [
       "Geschlecht                                  0\n",
       "Alter                                       0\n",
       "Text                                        0\n",
       "Extraversion_Classification                 0\n",
       "Gewissenhaftigkeit_Classification           0\n",
       "EmotionaleStabilitaet_Classification        0\n",
       "Offenheit_Classification                    0\n",
       "Empathie_Classification                     0\n",
       "Wirksamkeitsueberzeugung_Classification     0\n",
       "Optimismus_Classification                   0\n",
       "Resilienz_Classification                    0\n",
       "UnternehmerischesKapital_Classification     0\n",
       "AgilityMindset_Classification               0\n",
       "Machiavellismus_Classification              0\n",
       "Narzissmus_Classification                   0\n",
       "Psychopathie_Classification                 0\n",
       "ZerstoererischesPotential_Classification    0\n",
       "dtype: int64"
      ]
     },
     "execution_count": 8,
     "metadata": {},
     "output_type": "execute_result"
    }
   ],
   "source": [
    "df.isnull().sum()"
   ]
  },
  {
   "cell_type": "markdown",
   "id": "ee06523b",
   "metadata": {},
   "source": [
    "#### Feature engineering"
   ]
  },
  {
   "cell_type": "code",
   "execution_count": 9,
   "id": "a9d45f35",
   "metadata": {},
   "outputs": [],
   "source": [
    " df = df.rename(columns={'Alter':'Jahr'})"
   ]
  },
  {
   "cell_type": "code",
   "execution_count": 10,
   "id": "fec89b32",
   "metadata": {},
   "outputs": [],
   "source": [
    "from datetime import date\n",
    "\n",
    "current_year = date.today().year\n",
    "df['Alter'] = current_year - df['Jahr']"
   ]
  },
  {
   "cell_type": "code",
   "execution_count": 11,
   "id": "43390382",
   "metadata": {},
   "outputs": [
    {
     "data": {
      "text/html": [
       "<div>\n",
       "<style scoped>\n",
       "    .dataframe tbody tr th:only-of-type {\n",
       "        vertical-align: middle;\n",
       "    }\n",
       "\n",
       "    .dataframe tbody tr th {\n",
       "        vertical-align: top;\n",
       "    }\n",
       "\n",
       "    .dataframe thead th {\n",
       "        text-align: right;\n",
       "    }\n",
       "</style>\n",
       "<table border=\"1\" class=\"dataframe\">\n",
       "  <thead>\n",
       "    <tr style=\"text-align: right;\">\n",
       "      <th></th>\n",
       "      <th>Geschlecht</th>\n",
       "      <th>Jahr</th>\n",
       "      <th>Text</th>\n",
       "      <th>Extraversion_Classification</th>\n",
       "      <th>Gewissenhaftigkeit_Classification</th>\n",
       "      <th>EmotionaleStabilitaet_Classification</th>\n",
       "      <th>Offenheit_Classification</th>\n",
       "      <th>Empathie_Classification</th>\n",
       "      <th>Wirksamkeitsueberzeugung_Classification</th>\n",
       "      <th>Optimismus_Classification</th>\n",
       "      <th>Resilienz_Classification</th>\n",
       "      <th>UnternehmerischesKapital_Classification</th>\n",
       "      <th>AgilityMindset_Classification</th>\n",
       "      <th>Machiavellismus_Classification</th>\n",
       "      <th>Narzissmus_Classification</th>\n",
       "      <th>Psychopathie_Classification</th>\n",
       "      <th>ZerstoererischesPotential_Classification</th>\n",
       "      <th>Alter</th>\n",
       "    </tr>\n",
       "  </thead>\n",
       "  <tbody>\n",
       "    <tr>\n",
       "      <th>0</th>\n",
       "      <td>M</td>\n",
       "      <td>1972</td>\n",
       "      <td>Ich habe meinen Vater bis zu seinem Tode gepfl...</td>\n",
       "      <td>LOW</td>\n",
       "      <td>AVERAGE</td>\n",
       "      <td>HIGH</td>\n",
       "      <td>AVERAGE</td>\n",
       "      <td>LOW</td>\n",
       "      <td>AVERAGE</td>\n",
       "      <td>LOW</td>\n",
       "      <td>AVERAGE</td>\n",
       "      <td>AVERAGE</td>\n",
       "      <td>AVERAGE</td>\n",
       "      <td>HIGH</td>\n",
       "      <td>LOW</td>\n",
       "      <td>AVERAGE</td>\n",
       "      <td>AVERAGE</td>\n",
       "      <td>50</td>\n",
       "    </tr>\n",
       "    <tr>\n",
       "      <th>1</th>\n",
       "      <td>F</td>\n",
       "      <td>1976</td>\n",
       "      <td>Ich habe die Aufnahmeprüfung beim Landesgymnas...</td>\n",
       "      <td>AVERAGE</td>\n",
       "      <td>LOW</td>\n",
       "      <td>AVERAGE</td>\n",
       "      <td>HIGH</td>\n",
       "      <td>AVERAGE</td>\n",
       "      <td>AVERAGE</td>\n",
       "      <td>LOW</td>\n",
       "      <td>AVERAGE</td>\n",
       "      <td>AVERAGE</td>\n",
       "      <td>AVERAGE</td>\n",
       "      <td>AVERAGE</td>\n",
       "      <td>AVERAGE</td>\n",
       "      <td>AVERAGE</td>\n",
       "      <td>AVERAGE</td>\n",
       "      <td>46</td>\n",
       "    </tr>\n",
       "    <tr>\n",
       "      <th>2</th>\n",
       "      <td>F</td>\n",
       "      <td>1966</td>\n",
       "      <td>Bei meinem Sohn wurde in Kindertagen ADHS diag...</td>\n",
       "      <td>LOW</td>\n",
       "      <td>HIGH</td>\n",
       "      <td>AVERAGE</td>\n",
       "      <td>HIGH</td>\n",
       "      <td>HIGH</td>\n",
       "      <td>AVERAGE</td>\n",
       "      <td>HIGH</td>\n",
       "      <td>AVERAGE</td>\n",
       "      <td>HIGH</td>\n",
       "      <td>AVERAGE</td>\n",
       "      <td>LOW</td>\n",
       "      <td>AVERAGE</td>\n",
       "      <td>AVERAGE</td>\n",
       "      <td>AVERAGE</td>\n",
       "      <td>56</td>\n",
       "    </tr>\n",
       "    <tr>\n",
       "      <th>3</th>\n",
       "      <td>F</td>\n",
       "      <td>1966</td>\n",
       "      <td>Mein größter Erfolg war, dass es mir trotz mei...</td>\n",
       "      <td>AVERAGE</td>\n",
       "      <td>LOW</td>\n",
       "      <td>LOW</td>\n",
       "      <td>LOW</td>\n",
       "      <td>AVERAGE</td>\n",
       "      <td>LOW</td>\n",
       "      <td>AVERAGE</td>\n",
       "      <td>LOW</td>\n",
       "      <td>LOW</td>\n",
       "      <td>LOW</td>\n",
       "      <td>LOW</td>\n",
       "      <td>HIGH</td>\n",
       "      <td>AVERAGE</td>\n",
       "      <td>AVERAGE</td>\n",
       "      <td>56</td>\n",
       "    </tr>\n",
       "    <tr>\n",
       "      <th>4</th>\n",
       "      <td>M</td>\n",
       "      <td>1975</td>\n",
       "      <td>Ich habe siebeneinhalb Wohnungen gekauft. Eine...</td>\n",
       "      <td>AVERAGE</td>\n",
       "      <td>LOW</td>\n",
       "      <td>LOW</td>\n",
       "      <td>HIGH</td>\n",
       "      <td>LOW</td>\n",
       "      <td>AVERAGE</td>\n",
       "      <td>AVERAGE</td>\n",
       "      <td>AVERAGE</td>\n",
       "      <td>AVERAGE</td>\n",
       "      <td>AVERAGE</td>\n",
       "      <td>AVERAGE</td>\n",
       "      <td>HIGH</td>\n",
       "      <td>HIGH</td>\n",
       "      <td>HIGH</td>\n",
       "      <td>47</td>\n",
       "    </tr>\n",
       "  </tbody>\n",
       "</table>\n",
       "</div>"
      ],
      "text/plain": [
       "  Geschlecht  Jahr                                               Text  \\\n",
       "0          M  1972  Ich habe meinen Vater bis zu seinem Tode gepfl...   \n",
       "1          F  1976  Ich habe die Aufnahmeprüfung beim Landesgymnas...   \n",
       "2          F  1966  Bei meinem Sohn wurde in Kindertagen ADHS diag...   \n",
       "3          F  1966  Mein größter Erfolg war, dass es mir trotz mei...   \n",
       "4          M  1975  Ich habe siebeneinhalb Wohnungen gekauft. Eine...   \n",
       "\n",
       "  Extraversion_Classification Gewissenhaftigkeit_Classification  \\\n",
       "0                         LOW                           AVERAGE   \n",
       "1                     AVERAGE                               LOW   \n",
       "2                         LOW                              HIGH   \n",
       "3                     AVERAGE                               LOW   \n",
       "4                     AVERAGE                               LOW   \n",
       "\n",
       "  EmotionaleStabilitaet_Classification Offenheit_Classification  \\\n",
       "0                                 HIGH                  AVERAGE   \n",
       "1                              AVERAGE                     HIGH   \n",
       "2                              AVERAGE                     HIGH   \n",
       "3                                  LOW                      LOW   \n",
       "4                                  LOW                     HIGH   \n",
       "\n",
       "  Empathie_Classification Wirksamkeitsueberzeugung_Classification  \\\n",
       "0                     LOW                                 AVERAGE   \n",
       "1                 AVERAGE                                 AVERAGE   \n",
       "2                    HIGH                                 AVERAGE   \n",
       "3                 AVERAGE                                     LOW   \n",
       "4                     LOW                                 AVERAGE   \n",
       "\n",
       "  Optimismus_Classification Resilienz_Classification  \\\n",
       "0                       LOW                  AVERAGE   \n",
       "1                       LOW                  AVERAGE   \n",
       "2                      HIGH                  AVERAGE   \n",
       "3                   AVERAGE                      LOW   \n",
       "4                   AVERAGE                  AVERAGE   \n",
       "\n",
       "  UnternehmerischesKapital_Classification AgilityMindset_Classification  \\\n",
       "0                                 AVERAGE                       AVERAGE   \n",
       "1                                 AVERAGE                       AVERAGE   \n",
       "2                                    HIGH                       AVERAGE   \n",
       "3                                     LOW                           LOW   \n",
       "4                                 AVERAGE                       AVERAGE   \n",
       "\n",
       "  Machiavellismus_Classification Narzissmus_Classification  \\\n",
       "0                           HIGH                       LOW   \n",
       "1                        AVERAGE                   AVERAGE   \n",
       "2                            LOW                   AVERAGE   \n",
       "3                            LOW                      HIGH   \n",
       "4                        AVERAGE                      HIGH   \n",
       "\n",
       "  Psychopathie_Classification ZerstoererischesPotential_Classification  Alter  \n",
       "0                     AVERAGE                                  AVERAGE     50  \n",
       "1                     AVERAGE                                  AVERAGE     46  \n",
       "2                     AVERAGE                                  AVERAGE     56  \n",
       "3                     AVERAGE                                  AVERAGE     56  \n",
       "4                        HIGH                                     HIGH     47  "
      ]
     },
     "execution_count": 11,
     "metadata": {},
     "output_type": "execute_result"
    }
   ],
   "source": [
    "df.head()"
   ]
  },
  {
   "cell_type": "markdown",
   "id": "bd928624",
   "metadata": {},
   "source": [
    "#### Data preparation"
   ]
  },
  {
   "cell_type": "code",
   "execution_count": 12,
   "id": "cb4fb982",
   "metadata": {},
   "outputs": [],
   "source": [
    "def data_prep(x):\n",
    "    x = [stopwords for stopwords in nlp(x) if not stopwords.is_stop]     # removes stopwords\n",
    "    x = str(x).lower().replace('\\\\','').replace('_',' ')\n",
    "    x = re.sub(r'[^\\w ]+', \"\", x)                                        # removes special characters\n",
    "    x = BeautifulSoup(x, 'lxml').get_text().strip()                      # removes html tags\n",
    "    return x"
   ]
  },
  {
   "cell_type": "code",
   "execution_count": 13,
   "id": "5910c424",
   "metadata": {},
   "outputs": [
    {
     "data": {
      "text/plain": [
       "'vater tode gepflegt letzten moment begleitet'"
      ]
     },
     "execution_count": 13,
     "metadata": {},
     "output_type": "execute_result"
    }
   ],
   "source": [
    "data_prep(\"Ich habe meinen Vater bis zu seinem Tode gepflegt und ihn bis zum letzten Moment begleitet \")"
   ]
  },
  {
   "cell_type": "code",
   "execution_count": 14,
   "id": "4fb1257e",
   "metadata": {},
   "outputs": [],
   "source": [
    "df['Text'] = df['Text'].apply(lambda x:data_prep(x))"
   ]
  },
  {
   "cell_type": "code",
   "execution_count": 15,
   "id": "94c74b18",
   "metadata": {},
   "outputs": [
    {
     "data": {
      "text/plain": [
       "'vater tode gepflegt letzten moment begleitet  unterstützung frau nötige nehmen  entsprechende  technische  fähigkeiten aneignen  ergebnis  trotz langer schwerer krankheit   weiche landung   gelernt  loyalität tod  hedonistischen bigotten verfemt  größte kompliment  entsprechende dankbarkeit  leistung  loyalität verdient  größte lohn  bekommen'"
      ]
     },
     "execution_count": 15,
     "metadata": {},
     "output_type": "execute_result"
    }
   ],
   "source": [
    "df.Text[0]"
   ]
  },
  {
   "cell_type": "markdown",
   "id": "578b1740",
   "metadata": {},
   "source": [
    "#### Lemmatization"
   ]
  },
  {
   "cell_type": "code",
   "execution_count": 16,
   "id": "a588b52c",
   "metadata": {},
   "outputs": [],
   "source": [
    "df['lemmatized'] = df['Text'].apply(lambda x: \" \".join([y.lemma_ for y in nlp(x)]))"
   ]
  },
  {
   "cell_type": "code",
   "execution_count": 17,
   "id": "04b13761",
   "metadata": {},
   "outputs": [
    {
     "data": {
      "text/html": [
       "<div>\n",
       "<style scoped>\n",
       "    .dataframe tbody tr th:only-of-type {\n",
       "        vertical-align: middle;\n",
       "    }\n",
       "\n",
       "    .dataframe tbody tr th {\n",
       "        vertical-align: top;\n",
       "    }\n",
       "\n",
       "    .dataframe thead th {\n",
       "        text-align: right;\n",
       "    }\n",
       "</style>\n",
       "<table border=\"1\" class=\"dataframe\">\n",
       "  <thead>\n",
       "    <tr style=\"text-align: right;\">\n",
       "      <th></th>\n",
       "      <th>Geschlecht</th>\n",
       "      <th>Jahr</th>\n",
       "      <th>Text</th>\n",
       "      <th>Extraversion_Classification</th>\n",
       "      <th>Gewissenhaftigkeit_Classification</th>\n",
       "      <th>EmotionaleStabilitaet_Classification</th>\n",
       "      <th>Offenheit_Classification</th>\n",
       "      <th>Empathie_Classification</th>\n",
       "      <th>Wirksamkeitsueberzeugung_Classification</th>\n",
       "      <th>Optimismus_Classification</th>\n",
       "      <th>Resilienz_Classification</th>\n",
       "      <th>UnternehmerischesKapital_Classification</th>\n",
       "      <th>AgilityMindset_Classification</th>\n",
       "      <th>Machiavellismus_Classification</th>\n",
       "      <th>Narzissmus_Classification</th>\n",
       "      <th>Psychopathie_Classification</th>\n",
       "      <th>ZerstoererischesPotential_Classification</th>\n",
       "      <th>Alter</th>\n",
       "      <th>lemmatized</th>\n",
       "    </tr>\n",
       "  </thead>\n",
       "  <tbody>\n",
       "    <tr>\n",
       "      <th>0</th>\n",
       "      <td>M</td>\n",
       "      <td>1972</td>\n",
       "      <td>vater tode gepflegt letzten moment begleitet  ...</td>\n",
       "      <td>LOW</td>\n",
       "      <td>AVERAGE</td>\n",
       "      <td>HIGH</td>\n",
       "      <td>AVERAGE</td>\n",
       "      <td>LOW</td>\n",
       "      <td>AVERAGE</td>\n",
       "      <td>LOW</td>\n",
       "      <td>AVERAGE</td>\n",
       "      <td>AVERAGE</td>\n",
       "      <td>AVERAGE</td>\n",
       "      <td>HIGH</td>\n",
       "      <td>LOW</td>\n",
       "      <td>AVERAGE</td>\n",
       "      <td>AVERAGE</td>\n",
       "      <td>50</td>\n",
       "      <td>Vater Tod pflegen letzter Moment begleiten   U...</td>\n",
       "    </tr>\n",
       "    <tr>\n",
       "      <th>1</th>\n",
       "      <td>F</td>\n",
       "      <td>1976</td>\n",
       "      <td>aufnahmeprüfung landesgymnasium musik bestande...</td>\n",
       "      <td>AVERAGE</td>\n",
       "      <td>LOW</td>\n",
       "      <td>AVERAGE</td>\n",
       "      <td>HIGH</td>\n",
       "      <td>AVERAGE</td>\n",
       "      <td>AVERAGE</td>\n",
       "      <td>LOW</td>\n",
       "      <td>AVERAGE</td>\n",
       "      <td>AVERAGE</td>\n",
       "      <td>AVERAGE</td>\n",
       "      <td>AVERAGE</td>\n",
       "      <td>AVERAGE</td>\n",
       "      <td>AVERAGE</td>\n",
       "      <td>AVERAGE</td>\n",
       "      <td>46</td>\n",
       "      <td>Aufnahmeprüfung Landesgymnasium Musik bestehen...</td>\n",
       "    </tr>\n",
       "    <tr>\n",
       "      <th>2</th>\n",
       "      <td>F</td>\n",
       "      <td>1966</td>\n",
       "      <td>sohn kindertagen adhs diagnostiziert mühe anst...</td>\n",
       "      <td>LOW</td>\n",
       "      <td>HIGH</td>\n",
       "      <td>AVERAGE</td>\n",
       "      <td>HIGH</td>\n",
       "      <td>HIGH</td>\n",
       "      <td>AVERAGE</td>\n",
       "      <td>HIGH</td>\n",
       "      <td>AVERAGE</td>\n",
       "      <td>HIGH</td>\n",
       "      <td>AVERAGE</td>\n",
       "      <td>LOW</td>\n",
       "      <td>AVERAGE</td>\n",
       "      <td>AVERAGE</td>\n",
       "      <td>AVERAGE</td>\n",
       "      <td>56</td>\n",
       "      <td>Sohn kindertag Adhs diagnostizieren mühe Anstr...</td>\n",
       "    </tr>\n",
       "    <tr>\n",
       "      <th>3</th>\n",
       "      <td>F</td>\n",
       "      <td>1966</td>\n",
       "      <td>größter erfolg  trotz erkrankung erstaunlich  ...</td>\n",
       "      <td>AVERAGE</td>\n",
       "      <td>LOW</td>\n",
       "      <td>LOW</td>\n",
       "      <td>LOW</td>\n",
       "      <td>AVERAGE</td>\n",
       "      <td>LOW</td>\n",
       "      <td>AVERAGE</td>\n",
       "      <td>LOW</td>\n",
       "      <td>LOW</td>\n",
       "      <td>LOW</td>\n",
       "      <td>LOW</td>\n",
       "      <td>HIGH</td>\n",
       "      <td>AVERAGE</td>\n",
       "      <td>AVERAGE</td>\n",
       "      <td>56</td>\n",
       "      <td>groß Erfolg   trotz Erkrankung erstaunlich   i...</td>\n",
       "    </tr>\n",
       "    <tr>\n",
       "      <th>4</th>\n",
       "      <td>M</td>\n",
       "      <td>1975</td>\n",
       "      <td>siebeneinhalb wohnungen gekauft  bewohne selbe...</td>\n",
       "      <td>AVERAGE</td>\n",
       "      <td>LOW</td>\n",
       "      <td>LOW</td>\n",
       "      <td>HIGH</td>\n",
       "      <td>LOW</td>\n",
       "      <td>AVERAGE</td>\n",
       "      <td>AVERAGE</td>\n",
       "      <td>AVERAGE</td>\n",
       "      <td>AVERAGE</td>\n",
       "      <td>AVERAGE</td>\n",
       "      <td>AVERAGE</td>\n",
       "      <td>HIGH</td>\n",
       "      <td>HIGH</td>\n",
       "      <td>HIGH</td>\n",
       "      <td>47</td>\n",
       "      <td>siebeneinhalb Wohnung kaufen   bewohnen selber...</td>\n",
       "    </tr>\n",
       "  </tbody>\n",
       "</table>\n",
       "</div>"
      ],
      "text/plain": [
       "  Geschlecht  Jahr                                               Text  \\\n",
       "0          M  1972  vater tode gepflegt letzten moment begleitet  ...   \n",
       "1          F  1976  aufnahmeprüfung landesgymnasium musik bestande...   \n",
       "2          F  1966  sohn kindertagen adhs diagnostiziert mühe anst...   \n",
       "3          F  1966  größter erfolg  trotz erkrankung erstaunlich  ...   \n",
       "4          M  1975  siebeneinhalb wohnungen gekauft  bewohne selbe...   \n",
       "\n",
       "  Extraversion_Classification Gewissenhaftigkeit_Classification  \\\n",
       "0                         LOW                           AVERAGE   \n",
       "1                     AVERAGE                               LOW   \n",
       "2                         LOW                              HIGH   \n",
       "3                     AVERAGE                               LOW   \n",
       "4                     AVERAGE                               LOW   \n",
       "\n",
       "  EmotionaleStabilitaet_Classification Offenheit_Classification  \\\n",
       "0                                 HIGH                  AVERAGE   \n",
       "1                              AVERAGE                     HIGH   \n",
       "2                              AVERAGE                     HIGH   \n",
       "3                                  LOW                      LOW   \n",
       "4                                  LOW                     HIGH   \n",
       "\n",
       "  Empathie_Classification Wirksamkeitsueberzeugung_Classification  \\\n",
       "0                     LOW                                 AVERAGE   \n",
       "1                 AVERAGE                                 AVERAGE   \n",
       "2                    HIGH                                 AVERAGE   \n",
       "3                 AVERAGE                                     LOW   \n",
       "4                     LOW                                 AVERAGE   \n",
       "\n",
       "  Optimismus_Classification Resilienz_Classification  \\\n",
       "0                       LOW                  AVERAGE   \n",
       "1                       LOW                  AVERAGE   \n",
       "2                      HIGH                  AVERAGE   \n",
       "3                   AVERAGE                      LOW   \n",
       "4                   AVERAGE                  AVERAGE   \n",
       "\n",
       "  UnternehmerischesKapital_Classification AgilityMindset_Classification  \\\n",
       "0                                 AVERAGE                       AVERAGE   \n",
       "1                                 AVERAGE                       AVERAGE   \n",
       "2                                    HIGH                       AVERAGE   \n",
       "3                                     LOW                           LOW   \n",
       "4                                 AVERAGE                       AVERAGE   \n",
       "\n",
       "  Machiavellismus_Classification Narzissmus_Classification  \\\n",
       "0                           HIGH                       LOW   \n",
       "1                        AVERAGE                   AVERAGE   \n",
       "2                            LOW                   AVERAGE   \n",
       "3                            LOW                      HIGH   \n",
       "4                        AVERAGE                      HIGH   \n",
       "\n",
       "  Psychopathie_Classification ZerstoererischesPotential_Classification  Alter  \\\n",
       "0                     AVERAGE                                  AVERAGE     50   \n",
       "1                     AVERAGE                                  AVERAGE     46   \n",
       "2                     AVERAGE                                  AVERAGE     56   \n",
       "3                     AVERAGE                                  AVERAGE     56   \n",
       "4                        HIGH                                     HIGH     47   \n",
       "\n",
       "                                          lemmatized  \n",
       "0  Vater Tod pflegen letzter Moment begleiten   U...  \n",
       "1  Aufnahmeprüfung Landesgymnasium Musik bestehen...  \n",
       "2  Sohn kindertag Adhs diagnostizieren mühe Anstr...  \n",
       "3  groß Erfolg   trotz Erkrankung erstaunlich   i...  \n",
       "4  siebeneinhalb Wohnung kaufen   bewohnen selber...  "
      ]
     },
     "execution_count": 17,
     "metadata": {},
     "output_type": "execute_result"
    }
   ],
   "source": [
    "df.head()"
   ]
  },
  {
   "cell_type": "code",
   "execution_count": 18,
   "id": "3bded623",
   "metadata": {},
   "outputs": [
    {
     "data": {
      "text/plain": [
       "'Vater Tod pflegen letzter Moment begleiten   Unterstützung Frau nötig nehmen   entsprechend   technisch   Fähigkeit aneignen   Ergebnis   trotz lang schwer Krankheit    weich Landung    lernen   Loyalität Tod   hedonistisch bigotten verfemen   groß Kompliment   entsprechend Dankbarkeit   Leistung   Loyalität verdienen   groß Lohn   bekommen'"
      ]
     },
     "execution_count": 18,
     "metadata": {},
     "output_type": "execute_result"
    }
   ],
   "source": [
    "df.lemmatized[0] "
   ]
  },
  {
   "cell_type": "markdown",
   "id": "f3ec7a3f",
   "metadata": {},
   "source": [
    "#### Encoding the target field"
   ]
  },
  {
   "cell_type": "code",
   "execution_count": 46,
   "id": "4ec630ac",
   "metadata": {},
   "outputs": [],
   "source": [
    "df['EmotionaleStabilitaet_Classification'] = df['EmotionaleStabilitaet_Classification'].replace(['LOW','AVERAGE','HIGH'],[0,1,2])"
   ]
  },
  {
   "cell_type": "code",
   "execution_count": 47,
   "id": "28068f38",
   "metadata": {},
   "outputs": [
    {
     "data": {
      "text/html": [
       "<div>\n",
       "<style scoped>\n",
       "    .dataframe tbody tr th:only-of-type {\n",
       "        vertical-align: middle;\n",
       "    }\n",
       "\n",
       "    .dataframe tbody tr th {\n",
       "        vertical-align: top;\n",
       "    }\n",
       "\n",
       "    .dataframe thead th {\n",
       "        text-align: right;\n",
       "    }\n",
       "</style>\n",
       "<table border=\"1\" class=\"dataframe\">\n",
       "  <thead>\n",
       "    <tr style=\"text-align: right;\">\n",
       "      <th></th>\n",
       "      <th>Geschlecht</th>\n",
       "      <th>Jahr</th>\n",
       "      <th>Text</th>\n",
       "      <th>Extraversion_Classification</th>\n",
       "      <th>Gewissenhaftigkeit_Classification</th>\n",
       "      <th>EmotionaleStabilitaet_Classification</th>\n",
       "      <th>Offenheit_Classification</th>\n",
       "      <th>Empathie_Classification</th>\n",
       "      <th>Wirksamkeitsueberzeugung_Classification</th>\n",
       "      <th>Optimismus_Classification</th>\n",
       "      <th>Resilienz_Classification</th>\n",
       "      <th>UnternehmerischesKapital_Classification</th>\n",
       "      <th>AgilityMindset_Classification</th>\n",
       "      <th>Machiavellismus_Classification</th>\n",
       "      <th>Narzissmus_Classification</th>\n",
       "      <th>Psychopathie_Classification</th>\n",
       "      <th>ZerstoererischesPotential_Classification</th>\n",
       "      <th>Alter</th>\n",
       "      <th>lemmatized</th>\n",
       "    </tr>\n",
       "  </thead>\n",
       "  <tbody>\n",
       "    <tr>\n",
       "      <th>0</th>\n",
       "      <td>M</td>\n",
       "      <td>1972</td>\n",
       "      <td>vater tode gepflegt letzten moment begleitet  ...</td>\n",
       "      <td>HIGH</td>\n",
       "      <td>AVERAGE</td>\n",
       "      <td>1</td>\n",
       "      <td>AVERAGE</td>\n",
       "      <td>HIGH</td>\n",
       "      <td>AVERAGE</td>\n",
       "      <td>HIGH</td>\n",
       "      <td>AVERAGE</td>\n",
       "      <td>AVERAGE</td>\n",
       "      <td>AVERAGE</td>\n",
       "      <td>AVERAGE</td>\n",
       "      <td>HIGH</td>\n",
       "      <td>AVERAGE</td>\n",
       "      <td>AVERAGE</td>\n",
       "      <td>50</td>\n",
       "      <td>Vater Tod pflegen letzter Moment begleiten   U...</td>\n",
       "    </tr>\n",
       "    <tr>\n",
       "      <th>1</th>\n",
       "      <td>F</td>\n",
       "      <td>1976</td>\n",
       "      <td>aufnahmeprüfung landesgymnasium musik bestande...</td>\n",
       "      <td>AVERAGE</td>\n",
       "      <td>HIGH</td>\n",
       "      <td>1</td>\n",
       "      <td>AVERAGE</td>\n",
       "      <td>AVERAGE</td>\n",
       "      <td>AVERAGE</td>\n",
       "      <td>HIGH</td>\n",
       "      <td>AVERAGE</td>\n",
       "      <td>AVERAGE</td>\n",
       "      <td>AVERAGE</td>\n",
       "      <td>AVERAGE</td>\n",
       "      <td>AVERAGE</td>\n",
       "      <td>AVERAGE</td>\n",
       "      <td>AVERAGE</td>\n",
       "      <td>46</td>\n",
       "      <td>Aufnahmeprüfung Landesgymnasium Musik bestehen...</td>\n",
       "    </tr>\n",
       "    <tr>\n",
       "      <th>2</th>\n",
       "      <td>F</td>\n",
       "      <td>1966</td>\n",
       "      <td>sohn kindertagen adhs diagnostiziert mühe anst...</td>\n",
       "      <td>HIGH</td>\n",
       "      <td>AVERAGE</td>\n",
       "      <td>1</td>\n",
       "      <td>AVERAGE</td>\n",
       "      <td>AVERAGE</td>\n",
       "      <td>AVERAGE</td>\n",
       "      <td>AVERAGE</td>\n",
       "      <td>AVERAGE</td>\n",
       "      <td>AVERAGE</td>\n",
       "      <td>AVERAGE</td>\n",
       "      <td>HIGH</td>\n",
       "      <td>AVERAGE</td>\n",
       "      <td>AVERAGE</td>\n",
       "      <td>AVERAGE</td>\n",
       "      <td>56</td>\n",
       "      <td>Sohn kindertag Adhs diagnostizieren mühe Anstr...</td>\n",
       "    </tr>\n",
       "    <tr>\n",
       "      <th>3</th>\n",
       "      <td>F</td>\n",
       "      <td>1966</td>\n",
       "      <td>größter erfolg  trotz erkrankung erstaunlich  ...</td>\n",
       "      <td>AVERAGE</td>\n",
       "      <td>HIGH</td>\n",
       "      <td>2</td>\n",
       "      <td>HIGH</td>\n",
       "      <td>AVERAGE</td>\n",
       "      <td>HIGH</td>\n",
       "      <td>AVERAGE</td>\n",
       "      <td>HIGH</td>\n",
       "      <td>HIGH</td>\n",
       "      <td>HIGH</td>\n",
       "      <td>HIGH</td>\n",
       "      <td>AVERAGE</td>\n",
       "      <td>AVERAGE</td>\n",
       "      <td>AVERAGE</td>\n",
       "      <td>56</td>\n",
       "      <td>groß Erfolg   trotz Erkrankung erstaunlich   i...</td>\n",
       "    </tr>\n",
       "    <tr>\n",
       "      <th>4</th>\n",
       "      <td>M</td>\n",
       "      <td>1975</td>\n",
       "      <td>siebeneinhalb wohnungen gekauft  bewohne selbe...</td>\n",
       "      <td>AVERAGE</td>\n",
       "      <td>HIGH</td>\n",
       "      <td>2</td>\n",
       "      <td>AVERAGE</td>\n",
       "      <td>HIGH</td>\n",
       "      <td>AVERAGE</td>\n",
       "      <td>AVERAGE</td>\n",
       "      <td>AVERAGE</td>\n",
       "      <td>AVERAGE</td>\n",
       "      <td>AVERAGE</td>\n",
       "      <td>AVERAGE</td>\n",
       "      <td>AVERAGE</td>\n",
       "      <td>AVERAGE</td>\n",
       "      <td>AVERAGE</td>\n",
       "      <td>47</td>\n",
       "      <td>siebeneinhalb Wohnung kaufen   bewohnen selber...</td>\n",
       "    </tr>\n",
       "  </tbody>\n",
       "</table>\n",
       "</div>"
      ],
      "text/plain": [
       "  Geschlecht  Jahr                                               Text  \\\n",
       "0          M  1972  vater tode gepflegt letzten moment begleitet  ...   \n",
       "1          F  1976  aufnahmeprüfung landesgymnasium musik bestande...   \n",
       "2          F  1966  sohn kindertagen adhs diagnostiziert mühe anst...   \n",
       "3          F  1966  größter erfolg  trotz erkrankung erstaunlich  ...   \n",
       "4          M  1975  siebeneinhalb wohnungen gekauft  bewohne selbe...   \n",
       "\n",
       "  Extraversion_Classification Gewissenhaftigkeit_Classification  \\\n",
       "0                        HIGH                           AVERAGE   \n",
       "1                     AVERAGE                              HIGH   \n",
       "2                        HIGH                           AVERAGE   \n",
       "3                     AVERAGE                              HIGH   \n",
       "4                     AVERAGE                              HIGH   \n",
       "\n",
       "   EmotionaleStabilitaet_Classification Offenheit_Classification  \\\n",
       "0                                     1                  AVERAGE   \n",
       "1                                     1                  AVERAGE   \n",
       "2                                     1                  AVERAGE   \n",
       "3                                     2                     HIGH   \n",
       "4                                     2                  AVERAGE   \n",
       "\n",
       "  Empathie_Classification Wirksamkeitsueberzeugung_Classification  \\\n",
       "0                    HIGH                                 AVERAGE   \n",
       "1                 AVERAGE                                 AVERAGE   \n",
       "2                 AVERAGE                                 AVERAGE   \n",
       "3                 AVERAGE                                    HIGH   \n",
       "4                    HIGH                                 AVERAGE   \n",
       "\n",
       "  Optimismus_Classification Resilienz_Classification  \\\n",
       "0                      HIGH                  AVERAGE   \n",
       "1                      HIGH                  AVERAGE   \n",
       "2                   AVERAGE                  AVERAGE   \n",
       "3                   AVERAGE                     HIGH   \n",
       "4                   AVERAGE                  AVERAGE   \n",
       "\n",
       "  UnternehmerischesKapital_Classification AgilityMindset_Classification  \\\n",
       "0                                 AVERAGE                       AVERAGE   \n",
       "1                                 AVERAGE                       AVERAGE   \n",
       "2                                 AVERAGE                       AVERAGE   \n",
       "3                                    HIGH                          HIGH   \n",
       "4                                 AVERAGE                       AVERAGE   \n",
       "\n",
       "  Machiavellismus_Classification Narzissmus_Classification  \\\n",
       "0                        AVERAGE                      HIGH   \n",
       "1                        AVERAGE                   AVERAGE   \n",
       "2                           HIGH                   AVERAGE   \n",
       "3                           HIGH                   AVERAGE   \n",
       "4                        AVERAGE                   AVERAGE   \n",
       "\n",
       "  Psychopathie_Classification ZerstoererischesPotential_Classification  Alter  \\\n",
       "0                     AVERAGE                                  AVERAGE     50   \n",
       "1                     AVERAGE                                  AVERAGE     46   \n",
       "2                     AVERAGE                                  AVERAGE     56   \n",
       "3                     AVERAGE                                  AVERAGE     56   \n",
       "4                     AVERAGE                                  AVERAGE     47   \n",
       "\n",
       "                                          lemmatized  \n",
       "0  Vater Tod pflegen letzter Moment begleiten   U...  \n",
       "1  Aufnahmeprüfung Landesgymnasium Musik bestehen...  \n",
       "2  Sohn kindertag Adhs diagnostizieren mühe Anstr...  \n",
       "3  groß Erfolg   trotz Erkrankung erstaunlich   i...  \n",
       "4  siebeneinhalb Wohnung kaufen   bewohnen selber...  "
      ]
     },
     "execution_count": 47,
     "metadata": {},
     "output_type": "execute_result"
    }
   ],
   "source": [
    "df.head()"
   ]
  },
  {
   "cell_type": "markdown",
   "id": "5bcb21f9",
   "metadata": {},
   "source": [
    "#### Train & Test Split"
   ]
  },
  {
   "cell_type": "code",
   "execution_count": 48,
   "id": "982a135a",
   "metadata": {},
   "outputs": [],
   "source": [
    "X = df[['Text']]\n",
    "y= df['EmotionaleStabilitaet_Classification']"
   ]
  },
  {
   "cell_type": "code",
   "execution_count": 49,
   "id": "a9e62a85",
   "metadata": {},
   "outputs": [],
   "source": [
    "from sklearn.model_selection import train_test_split\n",
    "\n",
    "X_train, X_test, y_train, y_test = train_test_split(X, y, test_size = 0.25, random_state = 0)"
   ]
  },
  {
   "cell_type": "markdown",
   "id": "442564d3",
   "metadata": {},
   "source": [
    "#### BERT Model"
   ]
  },
  {
   "cell_type": "code",
   "execution_count": 50,
   "id": "17358d29",
   "metadata": {},
   "outputs": [],
   "source": [
    "import tensorflow as tf\n",
    "import tensorflow_hub as hub\n",
    "import tensorflow_text as text"
   ]
  },
  {
   "cell_type": "code",
   "execution_count": 51,
   "id": "c4a7f1c9",
   "metadata": {},
   "outputs": [],
   "source": [
    "bert_preprocess = hub.KerasLayer(\"https://tfhub.dev/tensorflow/bert_de_uncased_preprocess/3\")\n",
    "bert_encoder = hub.KerasLayer(\"https://tfhub.dev/tensorflow/bert_de_uncased_L-12_H-768_A-12/4\")"
   ]
  },
  {
   "cell_type": "code",
   "execution_count": 52,
   "id": "fcb8ba05",
   "metadata": {},
   "outputs": [],
   "source": [
    "def sentence_embeding(sentences):\n",
    "    preprocessed_text = bert_preprocess(sentences)\n",
    "    return bert_encoder(preprocessed_text)['pooled_output']"
   ]
  },
  {
   "cell_type": "code",
   "execution_count": 53,
   "id": "78c41217",
   "metadata": {},
   "outputs": [
    {
     "data": {
      "text/plain": [
       "<tf.Tensor: shape=(2, 768), dtype=float32, numpy=\n",
       "array([[-0.7814501 , -0.31337577,  0.00211338, ...,  0.08261453,\n",
       "        -0.6618706 ,  0.7963221 ],\n",
       "       [-0.86962104, -0.46866342, -0.7413928 , ..., -0.39593118,\n",
       "        -0.7076323 ,  0.80884373]], dtype=float32)>"
      ]
     },
     "execution_count": 53,
     "metadata": {},
     "output_type": "execute_result"
    }
   ],
   "source": [
    "sentence_embeding([\"Ich habe meinen Vater bis zu seinem Tode gepflegt\",\n",
    "                       \"ihn bis zum letzten Moment begleitet\"])"
   ]
  },
  {
   "cell_type": "markdown",
   "id": "0a17ccf3",
   "metadata": {},
   "source": [
    "#### Comparing the fields using Cosine Similarity"
   ]
  },
  {
   "cell_type": "code",
   "execution_count": 54,
   "id": "068aadb1",
   "metadata": {},
   "outputs": [],
   "source": [
    "cs = sentence_embeding([\"Extraversion\",\n",
    "                           \"Gewissenhaftigkeit\",\n",
    "                           \"EmotionaleStabilitaet\",\n",
    "                           \"Offenheit\",\n",
    "                           \"Empathie\",\n",
    "                           \"Wirksamkeitsueberzeugung\",\n",
    "                           \"Optimismus\",\n",
    "                           \"Resilienz\",\n",
    "                           \"UnternehmerischesKapital\",\n",
    "                           \"AgilityMindset\",\n",
    "                           \"Machiavellismus\",\n",
    "                           \"Narzissmus\",\n",
    "                           \"Psychopathie\",\n",
    "                           \"ZerstoererischesPotential\"])"
   ]
  },
  {
   "cell_type": "code",
   "execution_count": 55,
   "id": "59254c23",
   "metadata": {},
   "outputs": [
    {
     "data": {
      "text/plain": [
       "array([[0.93058527]], dtype=float32)"
      ]
     },
     "execution_count": 55,
     "metadata": {},
     "output_type": "execute_result"
    }
   ],
   "source": [
    "from sklearn.metrics.pairwise import cosine_similarity\n",
    "cosine_similarity([cs[0]],[cs[1]])"
   ]
  },
  {
   "cell_type": "code",
   "execution_count": 56,
   "id": "1d68fd31",
   "metadata": {},
   "outputs": [
    {
     "data": {
      "text/plain": [
       "array([[0.95692396]], dtype=float32)"
      ]
     },
     "execution_count": 56,
     "metadata": {},
     "output_type": "execute_result"
    }
   ],
   "source": [
    "cosine_similarity([cs[5]],[cs[7]])"
   ]
  },
  {
   "cell_type": "markdown",
   "id": "85fe5ed7",
   "metadata": {},
   "source": [
    "#### Functional model in Tensorflow"
   ]
  },
  {
   "cell_type": "code",
   "execution_count": 57,
   "id": "55c370fc",
   "metadata": {},
   "outputs": [],
   "source": [
    "## BERT layer\n",
    "text_input = tf.keras.layers.Input(shape=(), dtype=tf.string, name='text')\n",
    "preprocessed_text = bert_preprocess(text_input)\n",
    "outputs = bert_encoder(preprocessed_text)"
   ]
  },
  {
   "cell_type": "code",
   "execution_count": 58,
   "id": "9bf2091d",
   "metadata": {},
   "outputs": [],
   "source": [
    "# NN layers\n",
    "l = tf.keras.layers.Dropout(0.1, name=\"dropout\")(outputs['pooled_output'])\n",
    "l = tf.keras.layers.Dense(1, activation='sigmoid', name=\"output\")(l)"
   ]
  },
  {
   "cell_type": "code",
   "execution_count": 59,
   "id": "898388c7",
   "metadata": {},
   "outputs": [],
   "source": [
    "## constructing final model \n",
    "model = tf.keras.Model(inputs=[text_input], outputs = [l])"
   ]
  },
  {
   "cell_type": "code",
   "execution_count": 60,
   "id": "b59d81ad",
   "metadata": {},
   "outputs": [
    {
     "name": "stdout",
     "output_type": "stream",
     "text": [
      "Model: \"model_1\"\n",
      "__________________________________________________________________________________________________\n",
      " Layer (type)                   Output Shape         Param #     Connected to                     \n",
      "==================================================================================================\n",
      " text (InputLayer)              [(None,)]            0           []                               \n",
      "                                                                                                  \n",
      " keras_layer_2 (KerasLayer)     {'input_mask': (Non  0           ['text[0][0]']                   \n",
      "                                e, 128),                                                          \n",
      "                                 'input_type_ids':                                                \n",
      "                                (None, 128),                                                      \n",
      "                                 'input_word_ids':                                                \n",
      "                                (None, 128)}                                                      \n",
      "                                                                                                  \n",
      " keras_layer_3 (KerasLayer)     {'default': (None,   109482241   ['keras_layer_2[0][0]',          \n",
      "                                768),                             'keras_layer_2[0][1]',          \n",
      "                                 'encoder_outputs':               'keras_layer_2[0][2]']          \n",
      "                                 [(None, 128, 768),                                               \n",
      "                                 (None, 128, 768),                                                \n",
      "                                 (None, 128, 768),                                                \n",
      "                                 (None, 128, 768),                                                \n",
      "                                 (None, 128, 768),                                                \n",
      "                                 (None, 128, 768),                                                \n",
      "                                 (None, 128, 768),                                                \n",
      "                                 (None, 128, 768),                                                \n",
      "                                 (None, 128, 768),                                                \n",
      "                                 (None, 128, 768),                                                \n",
      "                                 (None, 128, 768),                                                \n",
      "                                 (None, 128, 768)],                                               \n",
      "                                 'pooled_output': (                                               \n",
      "                                None, 768),                                                       \n",
      "                                 'sequence_output':                                               \n",
      "                                 (None, 128, 768)}                                                \n",
      "                                                                                                  \n",
      " dropout (Dropout)              (None, 768)          0           ['keras_layer_3[0][13]']         \n",
      "                                                                                                  \n",
      " output (Dense)                 (None, 1)            769         ['dropout[0][0]']                \n",
      "                                                                                                  \n",
      "==================================================================================================\n",
      "Total params: 109,483,010\n",
      "Trainable params: 769\n",
      "Non-trainable params: 109,482,241\n",
      "__________________________________________________________________________________________________\n"
     ]
    }
   ],
   "source": [
    "model.summary()"
   ]
  },
  {
   "cell_type": "code",
   "execution_count": 61,
   "id": "35283162",
   "metadata": {},
   "outputs": [
    {
     "data": {
      "text/plain": [
       "1485"
      ]
     },
     "execution_count": 61,
     "metadata": {},
     "output_type": "execute_result"
    }
   ],
   "source": [
    "len(X_train)"
   ]
  },
  {
   "cell_type": "code",
   "execution_count": 62,
   "id": "72ef3c13",
   "metadata": {},
   "outputs": [],
   "source": [
    "METRICS = [\n",
    "      tf.keras.metrics.BinaryAccuracy(name='accuracy'),\n",
    "      tf.keras.metrics.Precision(name='precision'),\n",
    "      tf.keras.metrics.Recall(name='recall')\n",
    "]\n",
    "\n",
    "\n",
    "model.compile(optimizer='adam',\n",
    "              loss='binary_crossentropy',\n",
    "              metrics=METRICS)"
   ]
  },
  {
   "cell_type": "code",
   "execution_count": 63,
   "id": "9725935b",
   "metadata": {},
   "outputs": [
    {
     "name": "stdout",
     "output_type": "stream",
     "text": [
      "Epoch 1/8\n",
      "47/47 [==============================] - 251s 5s/step - loss: -3.3987 - accuracy: 0.6593 - precision: 1.0000 - recall: 1.0000\n",
      "Epoch 2/8\n",
      "47/47 [==============================] - 285s 6s/step - loss: -9.3484 - accuracy: 0.6593 - precision: 1.0000 - recall: 1.0000\n",
      "Epoch 3/8\n",
      "47/47 [==============================] - 325s 7s/step - loss: -15.4042 - accuracy: 0.6593 - precision: 1.0000 - recall: 1.0000\n",
      "Epoch 4/8\n",
      "47/47 [==============================] - 232s 5s/step - loss: -21.5229 - accuracy: 0.6593 - precision: 1.0000 - recall: 1.0000\n",
      "Epoch 5/8\n",
      "47/47 [==============================] - 362s 8s/step - loss: -27.6462 - accuracy: 0.6593 - precision: 1.0000 - recall: 1.0000\n",
      "Epoch 6/8\n",
      "47/47 [==============================] - 446s 9s/step - loss: -33.7753 - accuracy: 0.6593 - precision: 1.0000 - recall: 1.0000\n",
      "Epoch 7/8\n",
      "47/47 [==============================] - 385s 8s/step - loss: -39.8710 - accuracy: 0.6593 - precision: 1.0000 - recall: 1.0000\n",
      "Epoch 8/8\n",
      "47/47 [==============================] - 239s 5s/step - loss: -46.0399 - accuracy: 0.6593 - precision: 1.0000 - recall: 1.0000\n"
     ]
    },
    {
     "data": {
      "text/plain": [
       "<keras.callbacks.History at 0x18857cd2310>"
      ]
     },
     "execution_count": 63,
     "metadata": {},
     "output_type": "execute_result"
    }
   ],
   "source": [
    "model.fit(X_train, y_train, epochs=8)"
   ]
  },
  {
   "cell_type": "code",
   "execution_count": 64,
   "id": "0104584a",
   "metadata": {},
   "outputs": [
    {
     "name": "stdout",
     "output_type": "stream",
     "text": [
      "16/16 [==============================] - 78s 5s/step - loss: -49.5214 - accuracy: 0.6525 - precision: 1.0000 - recall: 1.0000\n"
     ]
    },
    {
     "data": {
      "text/plain": [
       "[-49.52140426635742, 0.6525252461433411, 1.0, 1.0]"
      ]
     },
     "execution_count": 64,
     "metadata": {},
     "output_type": "execute_result"
    }
   ],
   "source": [
    "model.evaluate(X_test, y_test)"
   ]
  },
  {
   "cell_type": "code",
   "execution_count": 65,
   "id": "88e3c1c1",
   "metadata": {},
   "outputs": [
    {
     "name": "stdout",
     "output_type": "stream",
     "text": [
      "16/16 [==============================] - 77s 5s/step\n"
     ]
    }
   ],
   "source": [
    "y_predicted = model.predict(X_test)\n",
    "y_predicted = y_predicted.flatten()"
   ]
  },
  {
   "cell_type": "code",
   "execution_count": 71,
   "id": "333e85dd",
   "metadata": {},
   "outputs": [],
   "source": [
    "y_predicted = np.where(y_predicted > 0.5, 1, 0)"
   ]
  },
  {
   "cell_type": "markdown",
   "id": "2d6e46bc",
   "metadata": {},
   "source": [
    "#### Confusion Matrix"
   ]
  },
  {
   "cell_type": "code",
   "execution_count": 67,
   "id": "2890e019",
   "metadata": {},
   "outputs": [
    {
     "data": {
      "text/plain": [
       "array([[323,   0],\n",
       "       [172,   0]], dtype=int64)"
      ]
     },
     "execution_count": 67,
     "metadata": {},
     "output_type": "execute_result"
    }
   ],
   "source": [
    "from sklearn.metrics import confusion_matrix, classification_report\n",
    "\n",
    "cm = confusion_matrix(y_test, y_predicted)\n",
    "cm "
   ]
  },
  {
   "cell_type": "code",
   "execution_count": 68,
   "id": "a7177beb",
   "metadata": {},
   "outputs": [
    {
     "data": {
      "text/plain": [
       "Text(33.0, 0.5, 'Truth')"
      ]
     },
     "execution_count": 68,
     "metadata": {},
     "output_type": "execute_result"
    },
    {
     "data": {
      "image/png": "[encoded data removed]",
      "text/plain": [
       "<Figure size 432x288 with 2 Axes>"
      ]
     },
     "metadata": {
      "needs_background": "light"
     },
     "output_type": "display_data"
    }
   ],
   "source": [
    "import seaborn as sn\n",
    "sn.heatmap(cm, annot=True, fmt='d')\n",
    "plt.xlabel('Predicted')\n",
    "plt.ylabel('Truth')"
   ]
  },
  {
   "cell_type": "markdown",
   "id": "665b8c04",
   "metadata": {},
   "source": [
    "#### Classification report"
   ]
  },
  {
   "cell_type": "code",
   "execution_count": 69,
   "id": "abf9442d",
   "metadata": {},
   "outputs": [
    {
     "name": "stdout",
     "output_type": "stream",
     "text": [
      "              precision    recall  f1-score   support\n",
      "\n",
      "           1       0.65      1.00      0.79       323\n",
      "           2       0.00      0.00      0.00       172\n",
      "\n",
      "    accuracy                           0.65       495\n",
      "   macro avg       0.33      0.50      0.39       495\n",
      "weighted avg       0.43      0.65      0.52       495\n",
      "\n"
     ]
    },
    {
     "name": "stderr",
     "output_type": "stream",
     "text": [
      "C:\\Users\\chetna\\anaconda3\\lib\\site-packages\\sklearn\\metrics\\_classification.py:1318: UndefinedMetricWarning: Precision and F-score are ill-defined and being set to 0.0 in labels with no predicted samples. Use `zero_division` parameter to control this behavior.\n",
      "  _warn_prf(average, modifier, msg_start, len(result))\n",
      "C:\\Users\\chetna\\anaconda3\\lib\\site-packages\\sklearn\\metrics\\_classification.py:1318: UndefinedMetricWarning: Precision and F-score are ill-defined and being set to 0.0 in labels with no predicted samples. Use `zero_division` parameter to control this behavior.\n",
      "  _warn_prf(average, modifier, msg_start, len(result))\n",
      "C:\\Users\\chetna\\anaconda3\\lib\\site-packages\\sklearn\\metrics\\_classification.py:1318: UndefinedMetricWarning: Precision and F-score are ill-defined and being set to 0.0 in labels with no predicted samples. Use `zero_division` parameter to control this behavior.\n",
      "  _warn_prf(average, modifier, msg_start, len(result))\n"
     ]
    }
   ],
   "source": [
    "print(classification_report(y_test, y_predicted))"
   ]
  },
  {
   "cell_type": "code",
   "execution_count": 70,
   "id": "654ed9a3",
   "metadata": {},
   "outputs": [
    {
     "name": "stdout",
     "output_type": "stream",
     "text": [
      "1/1 [==============================] - 2s 2s/step\n"
     ]
    },
    {
     "data": {
      "text/plain": [
       "array([[1.],\n",
       "       [1.],\n",
       "       [1.],\n",
       "       [1.],\n",
       "       [1.]], dtype=float32)"
      ]
     },
     "execution_count": 70,
     "metadata": {},
     "output_type": "execute_result"
    }
   ],
   "source": [
    "Text = ['Was war dein größter Erfolg ',\n",
    "        'die größte niederlage an sich gibt es nicht' ,\n",
    "        'immer wieder tiefschläge, aufstehen, krönchen richten, weitermachen',\n",
    "        'genauso wie höhenflüge ich kann mich da letztlich nur wiederholen',\n",
    "        'und den satz von oben nochmal hierhin schreiben']\n",
    "\n",
    "model.predict(Text)"
   ]
  },
  {
   "cell_type": "code",
   "execution_count": null,
   "id": "e1461e16",
   "metadata": {},
   "outputs": [],
   "source": []
  }
 ],
 "metadata": {
  "kernelspec": {
   "display_name": "Python 3 (ipykernel)",
   "language": "python",
   "name": "python3"
  },
  "language_info": {
   "codemirror_mode": {
    "name": "ipython",
    "version": 3
   },
   "file_extension": ".py",
   "mimetype": "text/x-python",
   "name": "python",
   "nbconvert_exporter": "python",
   "pygments_lexer": "ipython3",
   "version": "3.9.12"
  }
 },
 "nbformat": 4,
 "nbformat_minor": 5
}
